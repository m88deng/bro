{
 "cells": [
  {
   "cell_type": "code",
   "execution_count": 6,
   "metadata": {
    "slideshow": {
     "slide_type": "notes"
    }
   },
   "outputs": [
    {
     "name": "stdout",
     "output_type": "stream",
     "text": [
      "   instrument TR.FundPortfolioName TR.CompanyMarketCap\n",
      "0  LP68501877                 None                None\n"
     ]
    }
   ],
   "source": [
    "from refinitiv.dataplatform.content import fundamental_and_reference\n",
    "import refinitiv.dataplatform as rdp\n",
    "import pandas as pd\n",
    "\n",
    "\n",
    "%run credentials.ipynb\n",
    "\n",
    "session = rdp.open_platform_session(\n",
    "    APP_KEY, \n",
    "    rdp.GrantPassword(\n",
    "        username = RDP_LOGIN, \n",
    "        password = RDP_PASSWORD\n",
    "    )\n",
    ")\n",
    "\n",
    "response = fundamental_and_reference.Definition(\n",
    "    [\"LP68501877\"],\n",
    "    [\n",
    "        \"TR.FundPortfolioName\",             # Fund Name\n",
    "        # \"TR.AvgDailyVolume30D\",             # Average Volume\n",
    "        # \"TR.InvtrDivYieldCurrent\",          # Dividend Yield Current\n",
    "        \"TR.CompanyMarketCap\",                          # Market Capital\n",
    "        # \"TR.Revenue\",                       # Revenue\n",
    "\n",
    "        # \"TR.FundTER\",                       # Total Expanse Ratio Fund\n",
    "        # \"TR.FundLaunchDate\",                # Fund Launch Date\n",
    "        # \"TR.FundProjectedYield\",            # Fund Projected Yield\n",
    "        # \"TR.FundTopTenHoldings\",            # Top Ten Holdings % of TNA\n",
    "\n",
    "        # \"TR.Fund1YearPerf\",                 # 1 Year Performance to Last Month End\n",
    "        # \"TR.Fund3YearPerf\",                 # 3 Year Performance to Last Month End\n",
    "        # \"TR.Fund5YearPerf\",                 # 5 Year Performance to Last Month End\n",
    "        # \"TR.Fund10YearPerf\",                # 10 Year Performance to Last Month End\n",
    "\n",
    "        # \"TR.FundOwnershipTurnover\",         # Fund Turnover %\n",
    "        # \"TR.FundBeta3Year\",                 # Beta for 3 Years to Lst Month End\n",
    "\n",
    "        # \"TR.ETFOverallScore\",               #ETF Overall Score\n",
    "        # \"TR.ETFPerformanceScore\",           #ETF Performance Score\n",
    "        # \"TR.ETFRiskScore\",                  #ETF Risk Score\n",
    "        # \"TR.ETFCostScore\",                  #ETF Cost Score\n",
    "        # \"TR.ETFFundamentalScore\",           #ETF Fundamental Score\n",
    "        # \"TR.ETFValuationScore\",             #ETF Valuation Score\n",
    "        # \"TR.ETFTechnicalScore\",             #ETF Technical Score\n",
    "        # \"TR.ETFSentimentScore\",             #ETF Sentiment Score\n",
    "    ]\n",
    ").get_data()\n",
    "\n",
    "text = response.data.df\n",
    "print(text)\n",
    "\n",
    "# response.data.df.to_excel('print.xlsx', index=False)\n",
    "\n",
    "session.close()\n",
    "\n"
   ]
  }
 ],
 "metadata": {
  "kernelspec": {
   "display_name": "Python 3",
   "language": "python",
   "name": "python3"
  },
  "language_info": {
   "codemirror_mode": {
    "name": "ipython",
    "version": 3
   },
   "file_extension": ".py",
   "mimetype": "text/x-python",
   "name": "python",
   "nbconvert_exporter": "python",
   "pygments_lexer": "ipython3",
   "version": "3.11.5"
  },
  "orig_nbformat": 4
 },
 "nbformat": 4,
 "nbformat_minor": 2
}
