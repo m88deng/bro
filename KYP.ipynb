{
 "cells": [
  {
   "cell_type": "code",
   "execution_count": 7,
   "metadata": {
    "slideshow": {
     "slide_type": "notes"
    }
   },
   "outputs": [
    {
     "name": "stdout",
     "output_type": "stream",
     "text": [
      "  instrument                          Company Name  TR.AvgDailyVolume30D  \\\n",
      "0     META.O                    Meta Platforms Inc              19518477   \n",
      "1      IBM.N  International Business Machines Corp               1520314   \n",
      "2     GOOG.O                          Alphabet Inc              20709062   \n",
      "3     AAPL.O                             Apple Inc              55298864   \n",
      "\n",
      "       TR.PE  TR.DividendYield   TR.CompanyMarketCap  TR.InvtrReturnOnEquity  \\\n",
      "0   29.73441          0.435341  1159265489800.320068                    <NA>   \n",
      "1  22.835451          3.620107   167475078941.209991                    <NA>   \n",
      "2  26.439736              <NA>       1799024310000.0                    0.02   \n",
      "3  29.454096          0.511509       2923148073300.0                   -1.55   \n",
      "\n",
      "   TR.ROICActValue    TR.Revenue  TR.F.LTDebtPctofTotCap  TR.GrossProfit  \\\n",
      "0             <NA>  134902000000                11.02222    108896000000   \n",
      "1            13.24   61860000000                63.31607     34300000000   \n",
      "2             45.3  307394000000                 4.46236    175022000000   \n",
      "3            87.36  383285000000                55.17107    169148000000   \n",
      "\n",
      "   TR.F.GrossProfMargPct3YrAvg  TR.SIInstitutionalOwn TR.SRPAverageScore  \\\n",
      "0                    80.306591              67.921416               None   \n",
      "1                    54.477519              59.655475               None   \n",
      "2                    56.119449                   <NA>               None   \n",
      "3                    42.933928               62.00143               None   \n",
      "\n",
      "  TR.SRPEarningsScore TR.SRPFundamentalScore TR.SRPRelativeValuationScore  \\\n",
      "0                None                   None                         None   \n",
      "1                None                   None                         None   \n",
      "2                None                   None                         None   \n",
      "3                None                   None                         None   \n",
      "\n",
      "  TR.SRPRiskScore TR.SRPPriceMomentumScore TR.SRPInsiderTradingScore  \n",
      "0            None                     None                      None  \n",
      "1            None                     None                      None  \n",
      "2            None                     None                      None  \n",
      "3            None                     None                      None  \n"
     ]
    }
   ],
   "source": [
    "from refinitiv.dataplatform.content import fundamental_and_reference\n",
    "import refinitiv.dataplatform as rdp\n",
    "import pandas as pd\n",
    "\n",
    "\n",
    "%run credentials.ipynb\n",
    "\n",
    "session = rdp.open_platform_session(\n",
    "    APP_KEY, \n",
    "    rdp.GrantPassword(\n",
    "        username = RDP_LOGIN, \n",
    "        password = RDP_PASSWORD\n",
    "    )\n",
    ")\n",
    "\n",
    "response = fundamental_and_reference.Definition(\n",
    "    [\"META.O\",\"IBM.N\",\"GOOG.O\", \"AAPL.O\"],\n",
    "    [\n",
    "        \"TR.CompanyName\",                   # Company Name\n",
    "        \"TR.AvgDailyVolume30D\",             # Average Volume\n",
    "        \"TR.PE\",                            # PE Ratio\n",
    "        \"TR.DividendYield\",                 # Dividend Yield\n",
    "        \"TR.CompanyMarketCap\",              # Market Capital\n",
    "\n",
    "        \"TR.InvtrReturnOnEquity\",           # ROE\n",
    "        \"TR.ROICActValue\",                  # ROIC Actual\n",
    "\n",
    "        \"TR.Revenue\",                       # Revenue\n",
    "        \"TR.F.LTDebtPctofTotCap\",           # Long Term Debt Percentage of Total Capital\n",
    "\n",
    "        \"TR.GrossProfit\",                   # Gross Profit\n",
    "        \"TR.F.GrossProfMargPct3YrAvg\",      # Gross Profit Margin % - 3 Years Average\n",
    "\n",
    "        \"TR.SIInstitutionalOwn\",            # Institutional Ownership %\n",
    "\n",
    "        \"TR.SRPAverageScore\",               # SRP Average Score\n",
    "        \"TR.SRPEarningsScore\",              # SRP Earnings Score\n",
    "        \"TR.SRPFundamentalScore\",           # SRP Fundamental Score\n",
    "        \"TR.SRPRelativeValuationScore\",     # SRP Relative Valuation Score\n",
    "        \"TR.SRPRiskScore\",                  # SRP Risk Score\n",
    "        \"TR.SRPPriceMomentumScore\",         # SRP Momentum Score\n",
    "        \"TR.SRPInsiderTradingScore\",        # SRP Insider Trading Score\n",
    "    ]\n",
    ").get_data()\n",
    "\n",
    "text = response.data.df\n",
    "print(text)\n",
    "\n",
    "# response.data.df.to_excel('print.xlsx', index=False)\n",
    "\n",
    "session.close()\n",
    "\n"
   ]
  }
 ],
 "metadata": {
  "kernelspec": {
   "display_name": "Python 3",
   "language": "python",
   "name": "python3"
  },
  "language_info": {
   "codemirror_mode": {
    "name": "ipython",
    "version": 3
   },
   "file_extension": ".py",
   "mimetype": "text/x-python",
   "name": "python",
   "nbconvert_exporter": "python",
   "pygments_lexer": "ipython3",
   "version": "3.11.5"
  },
  "orig_nbformat": 4
 },
 "nbformat": 4,
 "nbformat_minor": 2
}
