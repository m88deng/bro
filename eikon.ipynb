{
 "cells": [
  {
   "cell_type": "code",
   "execution_count": 15,
   "metadata": {},
   "outputs": [
    {
     "name": "stderr",
     "output_type": "stream",
     "text": [
      "2024-02-06 21:44:54,449 P[71584] [AuthenticationTokenHandlerThread 6350204928] Using selector: KqueueSelector\n"
     ]
    },
    {
     "name": "stdout",
     "output_type": "stream",
     "text": [
      "None\n"
     ]
    }
   ],
   "source": [
    "import eikon as ek\n",
    "\n",
    "ek.set_app_key('7859a2c4d2a74b0cb21368d1fd1fb6281248058c')\n",
    "\n",
    "df, err = ek.get_data(\n",
    "    instruments = ['GOOG.O','MSFT.O', 'FB.O'], \n",
    "    fields=[\"TR.CompanyName\", \"TR.DividendYield\",\"TR.F.ReturnInvstCapPct.Date\", \"TR.CompanyMarketCap(ShType=DEF)\", \"TR.PE\", \"TR.Revenue\", \"TR.GrossProfit\"],\n",
    "    interval={'SDate':'0', 'EDate':'-4','Frq':'Y'}  \n",
    ")\n",
    "display(df)"
   ]
  }
 ],
 "metadata": {
  "kernelspec": {
   "display_name": "Python 3",
   "language": "python",
   "name": "python3"
  },
  "language_info": {
   "codemirror_mode": {
    "name": "ipython",
    "version": 3
   },
   "file_extension": ".py",
   "mimetype": "text/x-python",
   "name": "python",
   "nbconvert_exporter": "python",
   "pygments_lexer": "ipython3",
   "version": "3.11.5"
  },
  "orig_nbformat": 4
 },
 "nbformat": 4,
 "nbformat_minor": 2
}
