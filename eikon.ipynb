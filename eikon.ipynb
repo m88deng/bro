{
 "cells": [
  {
   "cell_type": "code",
   "execution_count": 3,
   "metadata": {},
   "outputs": [
    {
     "name": "stderr",
     "output_type": "stream",
     "text": [
      "2024-02-06 13:57:58,497 P[71584] [MainThread 7898370048] Error: no proxy address identified.\n",
      "Check if Eikon Desktop or Eikon API Proxy is running.\n",
      "2024-02-06 13:57:58,500 P[71584] [MainThread 7898370048] Error on handshake url http://127.0.0.1:None/api/handshake : InvalidURL(\"Invalid port: 'None'\")\n",
      "2024-02-06 13:57:58,501 P[71584] [MainThread 7898370048] Error on handshake url http://127.0.0.1:None/api/handshake : InvalidURL(\"Invalid port: 'None'\")\n",
      "2024-02-06 13:57:58,502 P[71584] [MainThread 7898370048] Port number was not identified, cannot send any request\n"
     ]
    }
   ],
   "source": [
    "import eikon as ek\n",
    "\n",
    "ek.set_app_key('d7764c4f80d94a04ba6ef2903613cd4a5230d377')"
   ]
  },
  {
   "cell_type": "code",
   "execution_count": 4,
   "metadata": {},
   "outputs": [
    {
     "ename": "TypeError",
     "evalue": "get_data() got an unexpected keyword argument 'interval'",
     "output_type": "error",
     "traceback": [
      "\u001b[0;31m---------------------------------------------------------------------------\u001b[0m",
      "\u001b[0;31mTypeError\u001b[0m                                 Traceback (most recent call last)",
      "Cell \u001b[0;32mIn[4], line 1\u001b[0m\n\u001b[0;32m----> 1\u001b[0m df, err \u001b[39m=\u001b[39m ek\u001b[39m.\u001b[39mget_data(\n\u001b[1;32m      2\u001b[0m     instruments \u001b[39m=\u001b[39m [\u001b[39m'\u001b[39m\u001b[39mGOOG.O\u001b[39m\u001b[39m'\u001b[39m,\u001b[39m'\u001b[39m\u001b[39mMSFT.O\u001b[39m\u001b[39m'\u001b[39m, \u001b[39m'\u001b[39m\u001b[39mFB.O\u001b[39m\u001b[39m'\u001b[39m], \n\u001b[1;32m      3\u001b[0m     fields\u001b[39m=\u001b[39m[\u001b[39m\"\u001b[39m\u001b[39mTR.CompanyName\u001b[39m\u001b[39m\"\u001b[39m, \u001b[39m\"\u001b[39m\u001b[39mTR.DividendYield\u001b[39m\u001b[39m\"\u001b[39m,\u001b[39m\"\u001b[39m\u001b[39mTR.F.ReturnInvstCapPct.Date\u001b[39m\u001b[39m\"\u001b[39m, \u001b[39m\"\u001b[39m\u001b[39mTR.CompanyMarketCap(ShType=DEF)\u001b[39m\u001b[39m\"\u001b[39m, \u001b[39m\"\u001b[39m\u001b[39mTR.PE\u001b[39m\u001b[39m\"\u001b[39m, \u001b[39m\"\u001b[39m\u001b[39mTR.Revenue\u001b[39m\u001b[39m\"\u001b[39m, \u001b[39m\"\u001b[39m\u001b[39mTR.GrossProfit\u001b[39m\u001b[39m\"\u001b[39m],\n\u001b[1;32m      4\u001b[0m     interval\u001b[39m=\u001b[39m{\u001b[39m'\u001b[39m\u001b[39mSDate\u001b[39m\u001b[39m'\u001b[39m:\u001b[39m'\u001b[39m\u001b[39m0\u001b[39m\u001b[39m'\u001b[39m, \u001b[39m'\u001b[39m\u001b[39mEDate\u001b[39m\u001b[39m'\u001b[39m:\u001b[39m'\u001b[39m\u001b[39m-4\u001b[39m\u001b[39m'\u001b[39m,\u001b[39m'\u001b[39m\u001b[39mFrq\u001b[39m\u001b[39m'\u001b[39m:\u001b[39m'\u001b[39m\u001b[39mY\u001b[39m\u001b[39m'\u001b[39m}  \n\u001b[1;32m      5\u001b[0m )\n\u001b[1;32m      6\u001b[0m display(df)\n",
      "\u001b[0;31mTypeError\u001b[0m: get_data() got an unexpected keyword argument 'interval'"
     ]
    }
   ],
   "source": [
    "df, err = ek.get_data(\n",
    "    instruments = ['GOOG.O','MSFT.O', 'FB.O'], \n",
    "    fields=[\"TR.CompanyName\", \"TR.DividendYield\",\"TR.F.ReturnInvstCapPct.Date\", \"TR.CompanyMarketCap(ShType=DEF)\", \"TR.PE\", \"TR.Revenue\", \"TR.GrossProfit\"],\n",
    "    interval={'SDate':'0', 'EDate':'-4','Frq':'Y'}  \n",
    ")\n",
    "display(df)"
   ]
  }
 ],
 "metadata": {
  "kernelspec": {
   "display_name": "Python 3",
   "language": "python",
   "name": "python3"
  },
  "language_info": {
   "codemirror_mode": {
    "name": "ipython",
    "version": 3
   },
   "file_extension": ".py",
   "mimetype": "text/x-python",
   "name": "python",
   "nbconvert_exporter": "python",
   "pygments_lexer": "ipython3",
   "version": "3.11.5"
  },
  "orig_nbformat": 4
 },
 "nbformat": 4,
 "nbformat_minor": 2
}
