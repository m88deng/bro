{
 "cells": [
  {
   "cell_type": "code",
   "execution_count": 4,
   "metadata": {
    "slideshow": {
     "slide_type": "notes"
    }
   },
   "outputs": [
    {
     "name": "stdout",
     "output_type": "stream",
     "text": [
      "  instrument                          Company Name  TR.AvgDailyVolume30D  \\\n",
      "0     META.O                    Meta Platforms Inc              19514579   \n",
      "1      IBM.N  International Business Machines Corp               1520314   \n",
      "2     GOOG.O                          Alphabet Inc              20704489   \n",
      "3     AAPL.O                             Apple Inc              55275917   \n",
      "\n",
      "       TR.PE  TR.DividendYield   TR.CompanyMarketCap  TR.InvtrReturnOnEquity  \\\n",
      "0   29.73441          0.435341  1159265489800.320068                    <NA>   \n",
      "1  22.835451          3.620107   167475078941.209991                    <NA>   \n",
      "2  26.439736              <NA>       1799024310000.0                    0.02   \n",
      "3  29.454096          0.511509       2923148073300.0                   -1.55   \n",
      "\n",
      "     TR.Revenue  TR.F.ReturnInvstCapPct  TR.GrossProfit  \n",
      "0  134902000000               25.586997    108896000000  \n",
      "1   61860000000               11.666286     34300000000  \n",
      "2  307394000000               26.071188    175022000000  \n",
      "3  383285000000               58.015318    169148000000  \n"
     ]
    }
   ],
   "source": [
    "from refinitiv.dataplatform.content import fundamental_and_reference\n",
    "import refinitiv.dataplatform as rdp\n",
    "\n",
    "%run credentials.ipynb\n",
    "\n",
    "session = rdp.open_platform_session(\n",
    "    APP_KEY, \n",
    "    rdp.GrantPassword(\n",
    "        username = RDP_LOGIN, \n",
    "        password = RDP_PASSWORD\n",
    "    )\n",
    ")\n",
    "\n",
    "response = fundamental_and_reference.Definition(\n",
    "    [\"META.O\",\"IBM.N\",\"GOOG.O\", \"AAPL.O\"],\n",
    "    [\n",
    "        \"TR.CompanyName\", #Company Name\n",
    "        \"TR.AvgDailyVolume30D\", #Average Volume\n",
    "        \"TR.PE\",    #PE Ratio\n",
    "        \"TR.DividendYield\", #Dividend Yield\n",
    "        \"TR.CompanyMarketCap\", #Market Capital\n",
    "        \"TR.InvtrReturnOnEquity\", #ROE\n",
    "        \"TR.Revenue\", #Revenue\n",
    "        \"TR.F.ReturnInvstCapPct\", #Return Capital %\n",
    "        \"TR.GrossProfit\"\n",
    "    ]\n",
    ").get_data()\n",
    "\n",
    "print(response.data.df)\n",
    "\n",
    "session.close()\n",
    "\n"
   ]
  }
 ],
 "metadata": {
  "kernelspec": {
   "display_name": "Python 3",
   "language": "python",
   "name": "python3"
  },
  "language_info": {
   "codemirror_mode": {
    "name": "ipython",
    "version": 3
   },
   "file_extension": ".py",
   "mimetype": "text/x-python",
   "name": "python",
   "nbconvert_exporter": "python",
   "pygments_lexer": "ipython3",
   "version": "3.11.5"
  },
  "orig_nbformat": 4
 },
 "nbformat": 4,
 "nbformat_minor": 2
}
