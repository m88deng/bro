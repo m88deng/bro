{
 "cells": [
  {
   "cell_type": "code",
   "execution_count": 3,
   "metadata": {
    "slideshow": {
     "slide_type": "notes"
    }
   },
   "outputs": [
    {
     "name": "stdout",
     "output_type": "stream",
     "text": [
      "  instrument   TR.Revenue TR.GrossProfit\n",
      "0      TRI.N   6627000000     6321000000\n",
      "1      IBM.N  61860000000    34300000000\n"
     ]
    }
   ],
   "source": [
    "from refinitiv.dataplatform.content import fundamental_and_reference\n",
    "import refinitiv.dataplatform as rdp\n",
    "\n",
    "%run credentials.ipynb\n",
    "\n",
    "session = rdp.open_platform_session(\n",
    "    APP_KEY, \n",
    "    rdp.GrantPassword(\n",
    "        username = RDP_LOGIN, \n",
    "        password = RDP_PASSWORD\n",
    "    )\n",
    ")\n",
    "\n",
    "response = fundamental_and_reference.Definition(\n",
    "    [\"TRI.N\", \"IBM.N\"],\n",
    "    [\"TR.Revenue\", \"TR.GrossProfit\"]\n",
    ").get_data()\n",
    "\n",
    "print(response.data.df)\n",
    "\n",
    "session.close()\n",
    "\n"
   ]
  }
 ],
 "metadata": {
  "kernelspec": {
   "display_name": "Python 3",
   "language": "python",
   "name": "python3"
  },
  "language_info": {
   "codemirror_mode": {
    "name": "ipython",
    "version": 3
   },
   "file_extension": ".py",
   "mimetype": "text/x-python",
   "name": "python",
   "nbconvert_exporter": "python",
   "pygments_lexer": "ipython3",
   "version": "3.11.5"
  },
  "orig_nbformat": 4
 },
 "nbformat": 4,
 "nbformat_minor": 2
}
